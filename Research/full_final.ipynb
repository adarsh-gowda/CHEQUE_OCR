{
 "cells": [
  {
   "cell_type": "code",
   "execution_count": 41,
   "id": "be353476",
   "metadata": {},
   "outputs": [],
   "source": [
    "import os\n",
    "import cv2\n",
    "import pytesseract\n",
    "import pandas as pd\n",
    "import re\n",
    "from pytesseract import Output\n",
    "from datetime import datetime"
   ]
  },
  {
   "cell_type": "code",
   "execution_count": 42,
   "id": "df715f24",
   "metadata": {},
   "outputs": [],
   "source": [
    "pytesseract.pytesseract.tesseract_cmd = r\"C:\\Program Files\\Tesseract-OCR\\tesseract.exe\"\n"
   ]
  },
  {
   "cell_type": "code",
   "execution_count": 43,
   "id": "f98f2c72",
   "metadata": {},
   "outputs": [],
   "source": [
    "folder_path = \"../CHEQUE_OCR/Images/\"\n"
   ]
  },
  {
   "cell_type": "code",
   "execution_count": 44,
   "id": "e7c89fb9",
   "metadata": {},
   "outputs": [],
   "source": [
    "\n",
    "# Bank code prefix mapping\n",
    "IFSC_PREFIX_MAP = {\n",
    "    \"ICIC\": \"ICICI BANK\",\n",
    "    \"UTIB\": \"AXIS BANK\",\n",
    "    \"SYNB\": \"SYNDICATE BANK\",\n",
    "    \"CNRB\": \"CANARA BANK\",\n",
    "    \"SBIN\": \"STATE BANK OF INDIA\",\n",
    "    \"BARB\": \"BANK OF BARODA\",\n",
    "    \"HDFC\": \"HDFC BANK\",\n",
    "    \"UBIN\": \"UNION BANK\"\n",
    "}\n",
    "KNOWN_BANKS = list(IFSC_PREFIX_MAP.values())"
   ]
  },
  {
   "cell_type": "code",
   "execution_count": 45,
   "id": "19031b04",
   "metadata": {},
   "outputs": [],
   "source": [
    "# === Template Matching for Regions Based on Keywords ===\n",
    "def locate_template_region(img, keyword):\n",
    "    gray = cv2.cvtColor(img, cv2.COLOR_BGR2GRAY)\n",
    "    data = pytesseract.image_to_data(gray, output_type=Output.DICT)\n",
    "\n",
    "    for i, word in enumerate(data['text']):\n",
    "        if keyword.upper() in word.upper():\n",
    "            x, y, w, h = data['left'][i], data['top'][i], data['width'][i], data['height'][i]\n",
    "            return img[y:y+h+40, x:x+250]  # Adjust crop area as needed\n",
    "    return None"
   ]
  },
  {
   "cell_type": "code",
   "execution_count": 46,
   "id": "2033bc02",
   "metadata": {},
   "outputs": [],
   "source": [
    "# === Field Extractors ===\n",
    "def extract_ifsc(region_text):\n",
    "    match = re.search(r'[A-Z]{4}0[0-9A-Z]{6}', region_text.replace(\"O\", \"0\"))\n",
    "    return match.group() if match else \"\"\n"
   ]
  },
  {
   "cell_type": "code",
   "execution_count": 47,
   "id": "2aed4e7c",
   "metadata": {},
   "outputs": [],
   "source": [
    "def extract_amount(region_text):\n",
    "    region_text = region_text.replace(\",\", \"\").replace(\"O\", \"0\")\n",
    "    match = re.findall(r'(\\d+\\.\\d{2})', region_text)\n",
    "    if match:\n",
    "        return str(max([float(m) for m in match]))\n",
    "    return \"\""
   ]
  },
  {
   "cell_type": "code",
   "execution_count": 48,
   "id": "d82985bf",
   "metadata": {},
   "outputs": [],
   "source": [
    "def extract_date(region_text):\n",
    "    patterns = [\n",
    "        r'(\\d{1,2})[-/.]([A-Z]{3})[-/.](\\d{4})',\n",
    "        r'(\\d{2})[.-](\\d{2})[.-](\\d{4})'\n",
    "    ]\n",
    "    month_map = {\n",
    "        \"JAN\": \"01\", \"FEB\": \"02\", \"MAR\": \"03\", \"APR\": \"04\",\n",
    "        \"MAY\": \"05\", \"JUN\": \"06\", \"JUL\": \"07\", \"AUG\": \"08\",\n",
    "        \"SEP\": \"09\", \"OCT\": \"10\", \"NOV\": \"11\", \"DEC\": \"12\"\n",
    "    }\n",
    "    for pattern in patterns:\n",
    "        match = re.search(pattern, region_text.upper())\n",
    "        if match:\n",
    "            groups = match.groups()\n",
    "            if len(groups) == 3:\n",
    "                if groups[1].isalpha():\n",
    "                    return f\"{int(groups[0]):02d}-{month_map.get(groups[1][:3], '00')}-{groups[2]}\"\n",
    "                else:\n",
    "                    return f\"{groups[0]}-{groups[1]}-{groups[2]}\"\n",
    "    return \"\""
   ]
  },
  {
   "cell_type": "code",
   "execution_count": 49,
   "id": "309805e1",
   "metadata": {},
   "outputs": [],
   "source": [
    "def extract_bank_name(full_text, ifsc_code):\n",
    "    KNOWN_BANKS = [\n",
    "        \"ICICI BANK\", \"AXIS BANK\", \"SYNDICATE BANK\", \"CANARA BANK\",\n",
    "        \"STATE BANK OF INDIA\", \"BANK OF BARODA\", \"HDFC BANK\", \"UNION BANK\"\n",
    "    ]\n",
    "    for bank in KNOWN_BANKS:\n",
    "        if bank in full_text:\n",
    "            return bank\n",
    "\n",
    "    IFSC_PREFIX_MAP = {\n",
    "        \"ICIC\": \"ICICI BANK\", \"UTIB\": \"AXIS BANK\", \"SYNB\": \"SYNDICATE BANK\",\n",
    "        \"CNRB\": \"CANARA BANK\", \"SBIN\": \"STATE BANK OF INDIA\",\n",
    "        \"BARB\": \"BANK OF BARODA\", \"HDFC\": \"HDFC BANK\", \"UBIN\": \"UNION BANK\"\n",
    "    }\n",
    "    if ifsc_code:\n",
    "        return IFSC_PREFIX_MAP.get(ifsc_code[:4], \"Unknown\")\n",
    "\n",
    "    return \"Unknown\""
   ]
  },
  {
   "cell_type": "code",
   "execution_count": 50,
   "id": "c93cf184",
   "metadata": {},
   "outputs": [],
   "source": [
    "# === Main Cheque Processing Function ===\n",
    "def process_cheque(image_path):\n",
    "    img = cv2.imread(image_path)\n",
    "    full_text = pytesseract.image_to_string(img).upper()\n",
    "\n",
    "    ifsc_region = locate_template_region(img, \"IFSC\")\n",
    "    amount_region = locate_template_region(img, \"RUPEES\")\n",
    "    date_region = locate_template_region(img, \"DATE\")\n",
    "\n",
    "    ifsc_text = pytesseract.image_to_string(ifsc_region).upper() if ifsc_region is not None else full_text\n",
    "    amount_text = pytesseract.image_to_string(amount_region).upper() if amount_region is not None else full_text\n",
    "    date_text = pytesseract.image_to_string(date_region).upper() if date_region is not None else full_text\n",
    "\n",
    "    ifsc_code = extract_ifsc(ifsc_text)\n",
    "    amount = extract_amount(amount_text)\n",
    "    date = extract_date(date_text)\n",
    "    bank_name = extract_bank_name(full_text, ifsc_code)\n",
    "\n",
    "    return {\n",
    "        \"Bank Name\": bank_name,\n",
    "        \"IFSC Code\": ifsc_code,\n",
    "        \"Amount\": amount,\n",
    "        \"Date\": date\n",
    "    }"
   ]
  },
  {
   "cell_type": "code",
   "execution_count": 51,
   "id": "916d22d7",
   "metadata": {},
   "outputs": [],
   "source": [
    "# === Excel Append ===\n",
    "def append_to_excel(new_data, excel_path=\"cheque_data_output.xlsx\"):\n",
    "    if os.path.exists(excel_path):\n",
    "        df = pd.read_excel(excel_path)\n",
    "    else:\n",
    "        df = pd.DataFrame(columns=new_data.keys())\n",
    "\n",
    "    if new_data[\"Filename\"] not in df[\"Filename\"].values:\n",
    "        df = pd.concat([df, pd.DataFrame([new_data])], ignore_index=True)\n",
    "        df.to_excel(excel_path, index=False)\n",
    "\n",
    "# === Batch Run ===\n",
    "def process_folder(folder_path):\n",
    "    for filename in os.listdir(folder_path):\n",
    "        if filename.lower().endswith((\".jpg\", \".jpeg\", \".png\")):\n",
    "            image_path = os.path.join(folder_path, filename)\n",
    "            print(f\"Processing: {filename}\")\n",
    "            result = process_cheque(image_path)\n",
    "            append_to_excel(result)\n",
    "    print(\"✅ All cheques processed and saved to Excel.\")\n",
    "\n",
    "# Example usage:\n",
    "# process_folder(\"../CHEQUE_OCR/Images\")\n"
   ]
  },
  {
   "cell_type": "code",
   "execution_count": null,
   "id": "b4e44643",
   "metadata": {},
   "outputs": [],
   "source": []
  }
 ],
 "metadata": {
  "kernelspec": {
   "display_name": "venv",
   "language": "python",
   "name": "python3"
  },
  "language_info": {
   "codemirror_mode": {
    "name": "ipython",
    "version": 3
   },
   "file_extension": ".py",
   "mimetype": "text/x-python",
   "name": "python",
   "nbconvert_exporter": "python",
   "pygments_lexer": "ipython3",
   "version": "3.13.3"
  }
 },
 "nbformat": 4,
 "nbformat_minor": 5
}
